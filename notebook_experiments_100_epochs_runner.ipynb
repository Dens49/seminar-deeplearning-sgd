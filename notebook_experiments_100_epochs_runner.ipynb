{
 "cells": [
  {
   "cell_type": "code",
   "execution_count": null,
   "metadata": {},
   "outputs": [],
   "source": [
    "%load_ext autoreload\n",
    "%autoreload 2\n",
    "%matplotlib inline"
   ]
  },
  {
   "cell_type": "code",
   "execution_count": null,
   "metadata": {},
   "outputs": [],
   "source": [
    "try:\n",
    "  import google.colab\n",
    "  IN_COLAB = True\n",
    "except:\n",
    "  IN_COLAB = False"
   ]
  },
  {
   "cell_type": "code",
   "execution_count": null,
   "metadata": {},
   "outputs": [],
   "source": [
    "import os\n",
    "if IN_COLAB:\n",
    "    print(\"running in google colab\")\n",
    "    from google.colab import drive\n",
    "    drive.mount(\"/content/drive\")\n",
    "    os.chdir(\"/content/drive/My Drive/seminar_dl_workspace\")\n",
    "    print(\"switched workspace:\", os.getcwd())"
   ]
  },
  {
   "cell_type": "code",
   "execution_count": null,
   "metadata": {},
   "outputs": [],
   "source": [
    "from IPython.display import SVG, display\n",
    "def show_svg(filename):\n",
    "    display(SVG(filename=filename))"
   ]
  },
  {
   "cell_type": "markdown",
   "metadata": {
    "colab_type": "text",
    "id": "0jCiDMMSLaSB"
   },
   "source": [
    "boilerplate done..."
   ]
  },
  {
   "cell_type": "markdown",
   "metadata": {
    "colab_type": "text",
    "id": "HKKwqeCLLaSC"
   },
   "source": [
    "define experiments"
   ]
  },
  {
   "cell_type": "code",
   "execution_count": null,
   "metadata": {},
   "outputs": [],
   "source": [
    "from experiment import Experiment\n",
    "from experiment_runner import run_experiment\n",
    "\n",
    "# sgd with different batch sizes and learning rates\n",
    "experiments = []\n",
    "epochs = 100\n",
    "experiments.append(Experiment(name=f\"SGD_100_epochs_batch_size_16_lr_0.35\",\n",
    "               optimizer_name=\"SGD\",\n",
    "               params=dict(epochs=epochs, batch_size=16, lr=0.35)))\n",
    "experiments.append(Experiment(name=f\"Adagrad_100_epochs_batch_size_8\",\n",
    "               optimizer_name=\"Adagrad\",\n",
    "               params=dict(epochs=epochs, batch_size=8)))\n",
    "experiments.append(Experiment(name=f\"RMSprop_100_epochs_batch_size_16_momentum_0.9\",\n",
    "               optimizer_name=\"Rmsprop\",\n",
    "               params=dict(epochs=epochs, batch_size=16, lr=0.001, momentum=0.9)))\n",
    "experiments.append(Experiment(name=f\"SGD_with_momentum_100_epochs_batch_size_16_lr_0.04_momentum_0.9\",\n",
    "               optimizer_name=\"SGD_WITH_MOMENTUM\",\n",
    "               params=dict(epochs=epochs, batch_size=16, lr=0.04, momentum=0.9)))\n",
    "\n",
    "# for cosine annealling as lr schedule, only 100 epochs with T_0=7 and T_mult=2 is interesting\n",
    "# experiments.append(Experiment(name=f\"SGD_with_momentum_and_lr_scheduled_100_epochs_batch_size_16_lr_0.04_momentum_0.9\",\n",
    "#                optimizer_name=\"SGD_WITH_MOMENTUM\",\n",
    "#                params=dict(epochs=epochs, batch_size=16, lr=0.04, momentum=0.9, T_0=20, T_mult=2),\n",
    "#                lr_scheduler_name=\"COSINE_ANNEALING_WARM_RESTARTS\"))\n",
    "experiments.append(Experiment(name=f\"SGD_with_momentum_and_lr_scheduled_100_epochs_batch_size_16_lr_0.04_momentum_0.9\",\n",
    "               optimizer_name=\"SGD_WITH_MOMENTUM\",\n",
    "               params=dict(epochs=epochs, batch_size=16, lr=0.04, momentum=0.9, T_0=7, T_mult=2),\n",
    "               lr_scheduler_name=\"COSINE_ANNEALING_WARM_RESTARTS\"))\n",
    "# experiments.append(Experiment(name=f\"SGD_with_momentum_and_lr_scheduled_larger_1000_epochs_batch_size_16_lr_0.04_momentum_0.9\",\n",
    "#                optimizer_name=\"SGD_WITH_MOMENTUM\",\n",
    "#                params=dict(epochs=1000, batch_size=16, lr=0.04, momentum=0.9, T_0=7, T_mult=2),\n",
    "#                lr_scheduler_name=\"COSINE_ANNEALING_WARM_RESTARTS\"))"
   ]
  },
  {
   "cell_type": "code",
   "execution_count": null,
   "metadata": {},
   "outputs": [],
   "source": [
    "for e in experiments:\n",
    "    print(e.name)"
   ]
  },
  {
   "cell_type": "markdown",
   "metadata": {
    "colab_type": "text",
    "id": "k0vpA5OGLaSE"
   },
   "source": [
    "run experiments"
   ]
  },
  {
   "cell_type": "code",
   "execution_count": null,
   "metadata": {
    "colab": {
     "base_uri": "https://localhost:8080/",
     "height": 1000
    },
    "colab_type": "code",
    "executionInfo": {
     "elapsed": 3996745,
     "status": "ok",
     "timestamp": 1578270833639,
     "user": {
      "displayName": "Burnin Ace",
      "photoUrl": "https://lh3.googleusercontent.com/a-/AAuE7mA8fj6H1-91RSJDpnR_RcKJY4qeRwPu0YujF20P9A=s64",
      "userId": "01207484451085938729"
     },
     "user_tz": -60
    },
    "id": "qg-0S9KOLaSF",
    "outputId": "1e59547c-f1a7-47c1-9a08-013b1563ef18"
   },
   "outputs": [],
   "source": [
    "for e in experiments:\n",
    "    print(f\"Running experiment: {e.name} with {e.optimizer_name}{(' ' + e.lr_scheduler_name) if e.has_lr_scheduler() else ''} {e.params}\")\n",
    "    run_experiment(e)"
   ]
  },
  {
   "cell_type": "code",
   "execution_count": null,
   "metadata": {
    "colab": {},
    "colab_type": "code",
    "id": "nkNv8HZ-wJ-0"
   },
   "outputs": [],
   "source": []
  }
 ],
 "metadata": {
  "accelerator": "GPU",
  "colab": {
   "collapsed_sections": [],
   "name": "notebook_experiments_100_epochs_runner.ipynb",
   "provenance": []
  },
  "file_extension": ".py",
  "kernelspec": {
   "display_name": "Python 3",
   "language": "python",
   "name": "python3"
  },
  "language_info": {
   "codemirror_mode": {
    "name": "ipython",
    "version": 3
   },
   "file_extension": ".py",
   "mimetype": "text/x-python",
   "name": "python",
   "nbconvert_exporter": "python",
   "pygments_lexer": "ipython3",
   "version": "3.7.3"
  },
  "mimetype": "text/x-python",
  "name": "python",
  "npconvert_exporter": "python",
  "pygments_lexer": "ipython3",
  "version": 3
 },
 "nbformat": 4,
 "nbformat_minor": 2
}
