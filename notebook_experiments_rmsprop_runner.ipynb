{
 "cells": [
  {
   "cell_type": "code",
   "execution_count": null,
   "metadata": {},
   "outputs": [],
   "source": [
    "%load_ext autoreload\n",
    "%autoreload 2\n",
    "%matplotlib inline"
   ]
  },
  {
   "cell_type": "code",
   "execution_count": null,
   "metadata": {},
   "outputs": [],
   "source": [
    "try:\n",
    "  import google.colab\n",
    "  IN_COLAB = True\n",
    "except:\n",
    "  IN_COLAB = False"
   ]
  },
  {
   "cell_type": "code",
   "execution_count": null,
   "metadata": {},
   "outputs": [],
   "source": [
    "import os\n",
    "if IN_COLAB:\n",
    "    print(\"running in google colab\")\n",
    "    from google.colab import drive\n",
    "    drive.mount(\"/content/drive\")\n",
    "    os.chdir(\"/content/drive/My Drive/seminar_dl_workspace\")\n",
    "    print(\"switched workspace:\", os.getcwd())"
   ]
  },
  {
   "cell_type": "code",
   "execution_count": null,
   "metadata": {},
   "outputs": [],
   "source": [
    "from IPython.display import SVG, display\n",
    "def show_svg(filename):\n",
    "    display(SVG(filename=filename))"
   ]
  },
  {
   "cell_type": "markdown",
   "metadata": {},
   "source": [
    "boilerplate done..."
   ]
  },
  {
   "cell_type": "markdown",
   "metadata": {},
   "source": [
    "define experiments"
   ]
  },
  {
   "cell_type": "code",
   "execution_count": null,
   "metadata": {},
   "outputs": [],
   "source": [
    "from experiment import Experiment\n",
    "from experiment_runner import run_experiment\n",
    "\n",
    "# rmsprop with different gammas (--> called momentums here, which isn't correct since the gamma of rmsprop is different from the gamma in momentum) and batch sizes\n",
    "experiments = []\n",
    "batch_sizes = [4, 8, 16, 32, 64, 128, 256, 512, 1024, 2048]\n",
    "momentums = [0, 0.9]\n",
    "epochs = 20\n",
    "for idx, batch_size in enumerate(batch_sizes):\n",
    "    for kdx, momentum in enumerate(momentums):\n",
    "        e = Experiment(name=f\"RMSprop_{momentum}_{batch_size}\",\n",
    "                    optimizer_name=\"Rmsprop\",\n",
    "                    params=dict(epochs=epochs, batch_size=batch_size, lr=0.001, momentum=momentum))\n",
    "        experiments.append(e)"
   ]
  },
  {
   "cell_type": "markdown",
   "metadata": {},
   "source": [
    "run experiments"
   ]
  },
  {
   "cell_type": "code",
   "execution_count": null,
   "metadata": {},
   "outputs": [],
   "source": [
    "for e in experiments:\n",
    "    print(f\"Running experiment: {e.name} with {e.optimizer_name}{(' ' + e.lr_scheduler_name) if e.has_lr_scheduler() else ''} {e.params}\")\n",
    "    run_experiment(e)"
   ]
  }
 ],
 "metadata": {
  "kernelspec": {
   "display_name": "Python 3",
   "language": "python",
   "name": "python3"
  },
  "language_info": {
   "codemirror_mode": {
    "name": "ipython",
    "version": 3
   },
   "file_extension": ".py",
   "mimetype": "text/x-python",
   "name": "python",
   "nbconvert_exporter": "python",
   "pygments_lexer": "ipython3",
   "version": "3.7.3"
  }
 },
 "nbformat": 4,
 "nbformat_minor": 2
}
