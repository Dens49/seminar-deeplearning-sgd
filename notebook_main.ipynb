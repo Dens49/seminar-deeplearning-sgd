{
 "cells": [
  {
   "cell_type": "markdown",
   "metadata": {},
   "source": [
    "# Seminar Deep Learning - Stochastic Gradient Descent\n",
    "\n",
    "*Hochschule Offenburg*\n",
    "\n",
    "*Dennis Bystrow, INFM-3*"
   ]
  },
  {
   "cell_type": "markdown",
   "metadata": {},
   "source": [
    "## Overview\n",
    "\n",
    "1. Introduction to SGD\n",
    "- Overview and implementations of a few SGD optimizations\n",
    "  1. Basic PyTorch implementation\n",
    "    1. The CIFAR10 Dataset\n",
    "  - SGD\n",
    "    1. Mini-Batch\n",
    "    - SGD with Momentum\n",
    "    - SGD with learning rate schedule\n",
    "  - AdaGrad\n",
    "  - RMSProp\n",
    "- Results\n",
    "  - SGD\n",
    "    1. Mini-Batch\n",
    "    - SGD with Momentum\n",
    "    - SGD with learning rate schedule\n",
    "  - AdaGrad\n",
    "  - RMSProp\n",
    "- Sources\n"
   ]
  },
  {
   "cell_type": "markdown",
   "metadata": {},
   "source": [
    "## 1. Introduction to SGD"
   ]
  },
  {
   "cell_type": "markdown",
   "metadata": {},
   "source": [
    "## 2. Overview and implementations of a few SGD optimizations"
   ]
  },
  {
   "cell_type": "markdown",
   "metadata": {},
   "source": [
    "### Basic PyTorch implementation"
   ]
  },
  {
   "cell_type": "markdown",
   "metadata": {},
   "source": [
    "#### The CIFAR10 dataset\n",
    "\n",
    "The dataset CIFAR10 https://www.cs.toronto.edu/~kriz/cifar.html will be used\n",
    "\n",
    "The CIFAR10 dataset is included in the torchvision library. It will can therefore be easily loaded and accessed via code only: https://pytorch.org/tutorials/beginner/blitz/cifar10_tutorial.html#loading-and-normalizing-cifar10\n",
    "\n",
    "An existing, untrained resnet20 implementation from https://github.com/cc-hpc-itwm/GradVis/blob/master/Examples/resnet20_example.py will be used"
   ]
  },
  {
   "cell_type": "code",
   "execution_count": 1,
   "metadata": {},
   "outputs": [],
   "source": [
    "%load_ext autoreload\n",
    "%autoreload 2"
   ]
  },
  {
   "cell_type": "code",
   "execution_count": 2,
   "metadata": {},
   "outputs": [],
   "source": [
    "import pandas as pd\n",
    "\n",
    "from main import main\n",
    "from create_visualizations import create_plots_from_checkpoints, TrainVisCIFAR10\n",
    "from gradvis import resnets"
   ]
  },
  {
   "cell_type": "markdown",
   "metadata": {},
   "source": [
    "Run learning"
   ]
  },
  {
   "cell_type": "code",
   "execution_count": 2,
   "metadata": {},
   "outputs": [
    {
     "name": "stdout",
     "output_type": "stream",
     "text": [
      "running on device: cuda\n",
      "Files already downloaded and verified\n",
      "Files already downloaded and verified\n",
      "directory ./checkpoints\\wip_cifar_resnet_sgd was created\n",
      "Epoch: [1/20]\n"
     ]
    },
    {
     "name": "stderr",
     "output_type": "stream",
     "text": [
      "  : 100%|██████████| 196/196 [00:17<00:00, 11.17it/s]\n"
     ]
    },
    {
     "name": "stdout",
     "output_type": "stream",
     "text": [
      "  Train Avg Loss: 1.8293 Acc: 0.3076\n",
      "  testing...\n",
      "  Test Avg Loss: 1.7680 Acc: 0.3449\n",
      "Epoch: [2/20]\n"
     ]
    },
    {
     "name": "stderr",
     "output_type": "stream",
     "text": [
      "  : 100%|██████████| 196/196 [00:13<00:00, 15.12it/s]\n"
     ]
    },
    {
     "name": "stdout",
     "output_type": "stream",
     "text": [
      "  Train Avg Loss: 1.5154 Acc: 0.4281\n",
      "  testing...\n",
      "  Test Avg Loss: 1.6889 Acc: 0.3957\n",
      "Epoch: [3/20]\n"
     ]
    },
    {
     "name": "stderr",
     "output_type": "stream",
     "text": [
      "  : 100%|██████████| 196/196 [00:13<00:00, 15.16it/s]\n"
     ]
    },
    {
     "name": "stdout",
     "output_type": "stream",
     "text": [
      "  Train Avg Loss: 1.3446 Acc: 0.5032\n",
      "  testing...\n",
      "  Test Avg Loss: 1.4196 Acc: 0.4819\n",
      "Epoch: [4/20]\n"
     ]
    },
    {
     "name": "stderr",
     "output_type": "stream",
     "text": [
      "  : 100%|██████████| 196/196 [00:13<00:00, 14.95it/s]\n"
     ]
    },
    {
     "name": "stdout",
     "output_type": "stream",
     "text": [
      "  Train Avg Loss: 1.2264 Acc: 0.5491\n",
      "  testing...\n",
      "  Test Avg Loss: 1.3024 Acc: 0.5299\n",
      "Epoch: [5/20]\n"
     ]
    },
    {
     "name": "stderr",
     "output_type": "stream",
     "text": [
      "  : 100%|██████████| 196/196 [00:13<00:00, 14.96it/s]\n"
     ]
    },
    {
     "name": "stdout",
     "output_type": "stream",
     "text": [
      "  Train Avg Loss: 1.1329 Acc: 0.5860\n",
      "  testing...\n",
      "  Test Avg Loss: 1.1937 Acc: 0.5657\n",
      "Epoch: [6/20]\n"
     ]
    },
    {
     "name": "stderr",
     "output_type": "stream",
     "text": [
      "  : 100%|██████████| 196/196 [00:13<00:00, 15.07it/s]\n"
     ]
    },
    {
     "name": "stdout",
     "output_type": "stream",
     "text": [
      "  Train Avg Loss: 1.0553 Acc: 0.6164\n",
      "  testing...\n",
      "  Test Avg Loss: 1.3713 Acc: 0.5219\n",
      "Epoch: [7/20]\n"
     ]
    },
    {
     "name": "stderr",
     "output_type": "stream",
     "text": [
      "  : 100%|██████████| 196/196 [00:13<00:00, 15.13it/s]\n"
     ]
    },
    {
     "name": "stdout",
     "output_type": "stream",
     "text": [
      "  Train Avg Loss: 0.9898 Acc: 0.6398\n",
      "  testing...\n",
      "  Test Avg Loss: 1.0365 Acc: 0.6301\n",
      "Epoch: [8/20]\n"
     ]
    },
    {
     "name": "stderr",
     "output_type": "stream",
     "text": [
      "  : 100%|██████████| 196/196 [00:13<00:00, 15.11it/s]\n"
     ]
    },
    {
     "name": "stdout",
     "output_type": "stream",
     "text": [
      "  Train Avg Loss: 0.9324 Acc: 0.6630\n",
      "  testing...\n",
      "  Test Avg Loss: 1.8831 Acc: 0.4397\n",
      "Epoch: [9/20]\n"
     ]
    },
    {
     "name": "stderr",
     "output_type": "stream",
     "text": [
      "  : 100%|██████████| 196/196 [00:13<00:00, 15.09it/s]\n"
     ]
    },
    {
     "name": "stdout",
     "output_type": "stream",
     "text": [
      "  Train Avg Loss: 0.8779 Acc: 0.6847\n",
      "  testing...\n",
      "  Test Avg Loss: 1.1731 Acc: 0.5941\n",
      "Epoch: [10/20]\n"
     ]
    },
    {
     "name": "stderr",
     "output_type": "stream",
     "text": [
      "  : 100%|██████████| 196/196 [00:13<00:00, 15.07it/s]\n"
     ]
    },
    {
     "name": "stdout",
     "output_type": "stream",
     "text": [
      "  Train Avg Loss: 0.8366 Acc: 0.6991\n",
      "  testing...\n",
      "  Test Avg Loss: 1.3420 Acc: 0.5602\n",
      "Epoch: [11/20]\n"
     ]
    },
    {
     "name": "stderr",
     "output_type": "stream",
     "text": [
      "  : 100%|██████████| 196/196 [00:13<00:00, 15.11it/s]\n"
     ]
    },
    {
     "name": "stdout",
     "output_type": "stream",
     "text": [
      "  Train Avg Loss: 0.7975 Acc: 0.7140\n",
      "  testing...\n",
      "  Test Avg Loss: 1.0503 Acc: 0.6330\n",
      "Epoch: [12/20]\n"
     ]
    },
    {
     "name": "stderr",
     "output_type": "stream",
     "text": [
      "  : 100%|██████████| 196/196 [00:13<00:00, 15.10it/s]\n"
     ]
    },
    {
     "name": "stdout",
     "output_type": "stream",
     "text": [
      "  Train Avg Loss: 0.7561 Acc: 0.7287\n",
      "  testing...\n",
      "  Test Avg Loss: 1.4712 Acc: 0.5538\n",
      "Epoch: [13/20]\n"
     ]
    },
    {
     "name": "stderr",
     "output_type": "stream",
     "text": [
      "  : 100%|██████████| 196/196 [00:13<00:00, 15.01it/s]\n"
     ]
    },
    {
     "name": "stdout",
     "output_type": "stream",
     "text": [
      "  Train Avg Loss: 0.7200 Acc: 0.7426\n",
      "  testing...\n",
      "  Test Avg Loss: 1.1825 Acc: 0.6094\n",
      "Epoch: [14/20]\n"
     ]
    },
    {
     "name": "stderr",
     "output_type": "stream",
     "text": [
      "  : 100%|██████████| 196/196 [00:13<00:00, 14.99it/s]\n"
     ]
    },
    {
     "name": "stdout",
     "output_type": "stream",
     "text": [
      "  Train Avg Loss: 0.6860 Acc: 0.7568\n",
      "  testing...\n",
      "  Test Avg Loss: 1.4862 Acc: 0.5617\n",
      "Epoch: [15/20]\n"
     ]
    },
    {
     "name": "stderr",
     "output_type": "stream",
     "text": [
      "  : 100%|██████████| 196/196 [00:13<00:00, 14.96it/s]\n"
     ]
    },
    {
     "name": "stdout",
     "output_type": "stream",
     "text": [
      "  Train Avg Loss: 0.6492 Acc: 0.7703\n",
      "  testing...\n",
      "  Test Avg Loss: 1.7807 Acc: 0.5131\n",
      "Epoch: [16/20]\n"
     ]
    },
    {
     "name": "stderr",
     "output_type": "stream",
     "text": [
      "  : 100%|██████████| 196/196 [00:13<00:00, 15.22it/s]\n"
     ]
    },
    {
     "name": "stdout",
     "output_type": "stream",
     "text": [
      "  Train Avg Loss: 0.6161 Acc: 0.7816\n",
      "  testing...\n",
      "  Test Avg Loss: 1.8965 Acc: 0.4764\n",
      "Epoch: [17/20]\n"
     ]
    },
    {
     "name": "stderr",
     "output_type": "stream",
     "text": [
      "  : 100%|██████████| 196/196 [00:13<00:00, 14.88it/s]\n"
     ]
    },
    {
     "name": "stdout",
     "output_type": "stream",
     "text": [
      "  Train Avg Loss: 0.5803 Acc: 0.7946\n",
      "  testing...\n",
      "  Test Avg Loss: 1.2119 Acc: 0.6265\n",
      "Epoch: [18/20]\n"
     ]
    },
    {
     "name": "stderr",
     "output_type": "stream",
     "text": [
      "  : 100%|██████████| 196/196 [00:13<00:00, 15.10it/s]\n"
     ]
    },
    {
     "name": "stdout",
     "output_type": "stream",
     "text": [
      "  Train Avg Loss: 0.5506 Acc: 0.8050\n",
      "  testing...\n",
      "  Test Avg Loss: 1.4147 Acc: 0.5994\n",
      "Epoch: [19/20]\n"
     ]
    },
    {
     "name": "stderr",
     "output_type": "stream",
     "text": [
      "  : 100%|██████████| 196/196 [00:13<00:00, 14.89it/s]\n"
     ]
    },
    {
     "name": "stdout",
     "output_type": "stream",
     "text": [
      "  Train Avg Loss: 0.5167 Acc: 0.8186\n",
      "  testing...\n",
      "  Test Avg Loss: 1.6466 Acc: 0.5324\n",
      "Epoch: [20/20]\n"
     ]
    },
    {
     "name": "stderr",
     "output_type": "stream",
     "text": [
      "  : 100%|██████████| 196/196 [00:13<00:00, 14.93it/s]\n"
     ]
    },
    {
     "name": "stdout",
     "output_type": "stream",
     "text": [
      "  Train Avg Loss: 0.4889 Acc: 0.8284\n",
      "  testing...\n",
      "  Test Avg Loss: 1.4284 Acc: 0.6103\n",
      "Training took 320.97 seconds\n"
     ]
    }
   ],
   "source": [
    "main()"
   ]
  },
  {
   "cell_type": "markdown",
   "metadata": {},
   "source": [
    "Create visualizations from checkpoints"
   ]
  },
  {
   "cell_type": "code",
   "execution_count": 4,
   "metadata": {},
   "outputs": [
    {
     "name": "stdout",
     "output_type": "stream",
     "text": [
      "Files already downloaded and verified\n",
      "File ./visualizations/wip_cifar_resnet_sgd\\wip_cifar_resnet_sgd_20.npz already exists!\n",
      "Saving figure ./visualizations/wip_cifar_resnet_sgd\\wip_cifar_resnet_sgd_2D_plot_pca_20.svg\n",
      "Saving figure ./visualizations/wip_cifar_resnet_sgd\\wip_cifar_resnet_sgd_3D_plot_pca_20.svg\n"
     ]
    }
   ],
   "source": [
    "bare_model = resnets.resnet20_cifar()\n",
    "train_vis_function = TrainVisCIFAR10(\n",
    "    \"./cifar_data\").get_train_vis_function()\n",
    "create_plots_from_checkpoints(bare_model,\n",
    "                              train_vis_function,\n",
    "                              \"./checkpoints/wip_cifar_resnet_sgd\",\n",
    "                              \"wip_cifar_resnet_sgd\",\n",
    "                              \"./visualizations/wip_cifar_resnet_sgd\",\n",
    "                              \"wip_cifar_resnet_sgd\",\n",
    "                              amount=-1,\n",
    "                              loss_3D_degrees=100)"
   ]
  },
  {
   "cell_type": "markdown",
   "metadata": {},
   "source": [
    "Show resulting visualizations"
   ]
  },
  {
   "cell_type": "markdown",
   "metadata": {},
   "source": [
    "2D plot of loss surface and path for this experiment\n",
    "\n",
    "![This should be an image](visualizations/wip_cifar_resnet_sgd/wip_cifar_resnet_sgd_2D_plot_pca_20.svg \"2D Plot of loss surface and path for this experiment\")\n",
    "\n",
    "3D plot of loss surface and path for this experiment\n",
    "\n",
    "![This should be an image](visualizations/wip_cifar_resnet_sgd/wip_cifar_resnet_sgd_3D_plot_pca_20.svg \"3D Plot of loss surface and path for this experiment\")"
   ]
  },
  {
   "cell_type": "markdown",
   "metadata": {},
   "source": [
    "Create diagram from loss and accuracy"
   ]
  },
  {
   "cell_type": "code",
   "execution_count": 27,
   "metadata": {},
   "outputs": [],
   "source": [
    "def get_latest_experiment_df():\n",
    "    experiment_stats = pd.read_csv(\"experiments_stats/wip_cifar_resnet_sgd.csv\")\n",
    "    experiment_stats_grouped = experiment_stats.groupby(\"experiment_id\")\n",
    "    return experiment_stats_grouped.get_group(experiment_stats.experiment_id.max())"
   ]
  },
  {
   "cell_type": "code",
   "execution_count": 33,
   "metadata": {},
   "outputs": [
    {
     "ename": "FileNotFoundError",
     "evalue": "File b'experiments_stats/wtf.csv' does not exist",
     "output_type": "error",
     "traceback": [
      "\u001b[1;31m---------------------------------------------------------------------------\u001b[0m",
      "\u001b[1;31mFileNotFoundError\u001b[0m                         Traceback (most recent call last)",
      "\u001b[1;32m<ipython-input-33-7b35c3674e7b>\u001b[0m in \u001b[0;36m<module>\u001b[1;34m\u001b[0m\n\u001b[1;32m----> 1\u001b[1;33m \u001b[0mdf\u001b[0m \u001b[1;33m=\u001b[0m \u001b[0mpd\u001b[0m\u001b[1;33m.\u001b[0m\u001b[0mread_csv\u001b[0m\u001b[1;33m(\u001b[0m\u001b[1;34m\"experiments_stats/wtf.csv\"\u001b[0m\u001b[1;33m)\u001b[0m\u001b[1;33m\u001b[0m\u001b[1;33m\u001b[0m\u001b[0m\n\u001b[0m",
      "\u001b[1;32mC:\\ProgramData\\Anaconda3\\lib\\site-packages\\pandas\\io\\parsers.py\u001b[0m in \u001b[0;36mparser_f\u001b[1;34m(filepath_or_buffer, sep, delimiter, header, names, index_col, usecols, squeeze, prefix, mangle_dupe_cols, dtype, engine, converters, true_values, false_values, skipinitialspace, skiprows, nrows, na_values, keep_default_na, na_filter, verbose, skip_blank_lines, parse_dates, infer_datetime_format, keep_date_col, date_parser, dayfirst, iterator, chunksize, compression, thousands, decimal, lineterminator, quotechar, quoting, escapechar, comment, encoding, dialect, tupleize_cols, error_bad_lines, warn_bad_lines, skipfooter, doublequote, delim_whitespace, low_memory, memory_map, float_precision)\u001b[0m\n\u001b[0;32m    676\u001b[0m                     skip_blank_lines=skip_blank_lines)\n\u001b[0;32m    677\u001b[0m \u001b[1;33m\u001b[0m\u001b[0m\n\u001b[1;32m--> 678\u001b[1;33m         \u001b[1;32mreturn\u001b[0m \u001b[0m_read\u001b[0m\u001b[1;33m(\u001b[0m\u001b[0mfilepath_or_buffer\u001b[0m\u001b[1;33m,\u001b[0m \u001b[0mkwds\u001b[0m\u001b[1;33m)\u001b[0m\u001b[1;33m\u001b[0m\u001b[1;33m\u001b[0m\u001b[0m\n\u001b[0m\u001b[0;32m    679\u001b[0m \u001b[1;33m\u001b[0m\u001b[0m\n\u001b[0;32m    680\u001b[0m     \u001b[0mparser_f\u001b[0m\u001b[1;33m.\u001b[0m\u001b[0m__name__\u001b[0m \u001b[1;33m=\u001b[0m \u001b[0mname\u001b[0m\u001b[1;33m\u001b[0m\u001b[1;33m\u001b[0m\u001b[0m\n",
      "\u001b[1;32mC:\\ProgramData\\Anaconda3\\lib\\site-packages\\pandas\\io\\parsers.py\u001b[0m in \u001b[0;36m_read\u001b[1;34m(filepath_or_buffer, kwds)\u001b[0m\n\u001b[0;32m    438\u001b[0m \u001b[1;33m\u001b[0m\u001b[0m\n\u001b[0;32m    439\u001b[0m     \u001b[1;31m# Create the parser.\u001b[0m\u001b[1;33m\u001b[0m\u001b[1;33m\u001b[0m\u001b[1;33m\u001b[0m\u001b[0m\n\u001b[1;32m--> 440\u001b[1;33m     \u001b[0mparser\u001b[0m \u001b[1;33m=\u001b[0m \u001b[0mTextFileReader\u001b[0m\u001b[1;33m(\u001b[0m\u001b[0mfilepath_or_buffer\u001b[0m\u001b[1;33m,\u001b[0m \u001b[1;33m**\u001b[0m\u001b[0mkwds\u001b[0m\u001b[1;33m)\u001b[0m\u001b[1;33m\u001b[0m\u001b[1;33m\u001b[0m\u001b[0m\n\u001b[0m\u001b[0;32m    441\u001b[0m \u001b[1;33m\u001b[0m\u001b[0m\n\u001b[0;32m    442\u001b[0m     \u001b[1;32mif\u001b[0m \u001b[0mchunksize\u001b[0m \u001b[1;32mor\u001b[0m \u001b[0miterator\u001b[0m\u001b[1;33m:\u001b[0m\u001b[1;33m\u001b[0m\u001b[1;33m\u001b[0m\u001b[0m\n",
      "\u001b[1;32mC:\\ProgramData\\Anaconda3\\lib\\site-packages\\pandas\\io\\parsers.py\u001b[0m in \u001b[0;36m__init__\u001b[1;34m(self, f, engine, **kwds)\u001b[0m\n\u001b[0;32m    785\u001b[0m             \u001b[0mself\u001b[0m\u001b[1;33m.\u001b[0m\u001b[0moptions\u001b[0m\u001b[1;33m[\u001b[0m\u001b[1;34m'has_index_names'\u001b[0m\u001b[1;33m]\u001b[0m \u001b[1;33m=\u001b[0m \u001b[0mkwds\u001b[0m\u001b[1;33m[\u001b[0m\u001b[1;34m'has_index_names'\u001b[0m\u001b[1;33m]\u001b[0m\u001b[1;33m\u001b[0m\u001b[1;33m\u001b[0m\u001b[0m\n\u001b[0;32m    786\u001b[0m \u001b[1;33m\u001b[0m\u001b[0m\n\u001b[1;32m--> 787\u001b[1;33m         \u001b[0mself\u001b[0m\u001b[1;33m.\u001b[0m\u001b[0m_make_engine\u001b[0m\u001b[1;33m(\u001b[0m\u001b[0mself\u001b[0m\u001b[1;33m.\u001b[0m\u001b[0mengine\u001b[0m\u001b[1;33m)\u001b[0m\u001b[1;33m\u001b[0m\u001b[1;33m\u001b[0m\u001b[0m\n\u001b[0m\u001b[0;32m    788\u001b[0m \u001b[1;33m\u001b[0m\u001b[0m\n\u001b[0;32m    789\u001b[0m     \u001b[1;32mdef\u001b[0m \u001b[0mclose\u001b[0m\u001b[1;33m(\u001b[0m\u001b[0mself\u001b[0m\u001b[1;33m)\u001b[0m\u001b[1;33m:\u001b[0m\u001b[1;33m\u001b[0m\u001b[1;33m\u001b[0m\u001b[0m\n",
      "\u001b[1;32mC:\\ProgramData\\Anaconda3\\lib\\site-packages\\pandas\\io\\parsers.py\u001b[0m in \u001b[0;36m_make_engine\u001b[1;34m(self, engine)\u001b[0m\n\u001b[0;32m   1012\u001b[0m     \u001b[1;32mdef\u001b[0m \u001b[0m_make_engine\u001b[0m\u001b[1;33m(\u001b[0m\u001b[0mself\u001b[0m\u001b[1;33m,\u001b[0m \u001b[0mengine\u001b[0m\u001b[1;33m=\u001b[0m\u001b[1;34m'c'\u001b[0m\u001b[1;33m)\u001b[0m\u001b[1;33m:\u001b[0m\u001b[1;33m\u001b[0m\u001b[1;33m\u001b[0m\u001b[0m\n\u001b[0;32m   1013\u001b[0m         \u001b[1;32mif\u001b[0m \u001b[0mengine\u001b[0m \u001b[1;33m==\u001b[0m \u001b[1;34m'c'\u001b[0m\u001b[1;33m:\u001b[0m\u001b[1;33m\u001b[0m\u001b[1;33m\u001b[0m\u001b[0m\n\u001b[1;32m-> 1014\u001b[1;33m             \u001b[0mself\u001b[0m\u001b[1;33m.\u001b[0m\u001b[0m_engine\u001b[0m \u001b[1;33m=\u001b[0m \u001b[0mCParserWrapper\u001b[0m\u001b[1;33m(\u001b[0m\u001b[0mself\u001b[0m\u001b[1;33m.\u001b[0m\u001b[0mf\u001b[0m\u001b[1;33m,\u001b[0m \u001b[1;33m**\u001b[0m\u001b[0mself\u001b[0m\u001b[1;33m.\u001b[0m\u001b[0moptions\u001b[0m\u001b[1;33m)\u001b[0m\u001b[1;33m\u001b[0m\u001b[1;33m\u001b[0m\u001b[0m\n\u001b[0m\u001b[0;32m   1015\u001b[0m         \u001b[1;32melse\u001b[0m\u001b[1;33m:\u001b[0m\u001b[1;33m\u001b[0m\u001b[1;33m\u001b[0m\u001b[0m\n\u001b[0;32m   1016\u001b[0m             \u001b[1;32mif\u001b[0m \u001b[0mengine\u001b[0m \u001b[1;33m==\u001b[0m \u001b[1;34m'python'\u001b[0m\u001b[1;33m:\u001b[0m\u001b[1;33m\u001b[0m\u001b[1;33m\u001b[0m\u001b[0m\n",
      "\u001b[1;32mC:\\ProgramData\\Anaconda3\\lib\\site-packages\\pandas\\io\\parsers.py\u001b[0m in \u001b[0;36m__init__\u001b[1;34m(self, src, **kwds)\u001b[0m\n\u001b[0;32m   1706\u001b[0m         \u001b[0mkwds\u001b[0m\u001b[1;33m[\u001b[0m\u001b[1;34m'usecols'\u001b[0m\u001b[1;33m]\u001b[0m \u001b[1;33m=\u001b[0m \u001b[0mself\u001b[0m\u001b[1;33m.\u001b[0m\u001b[0musecols\u001b[0m\u001b[1;33m\u001b[0m\u001b[1;33m\u001b[0m\u001b[0m\n\u001b[0;32m   1707\u001b[0m \u001b[1;33m\u001b[0m\u001b[0m\n\u001b[1;32m-> 1708\u001b[1;33m         \u001b[0mself\u001b[0m\u001b[1;33m.\u001b[0m\u001b[0m_reader\u001b[0m \u001b[1;33m=\u001b[0m \u001b[0mparsers\u001b[0m\u001b[1;33m.\u001b[0m\u001b[0mTextReader\u001b[0m\u001b[1;33m(\u001b[0m\u001b[0msrc\u001b[0m\u001b[1;33m,\u001b[0m \u001b[1;33m**\u001b[0m\u001b[0mkwds\u001b[0m\u001b[1;33m)\u001b[0m\u001b[1;33m\u001b[0m\u001b[1;33m\u001b[0m\u001b[0m\n\u001b[0m\u001b[0;32m   1709\u001b[0m \u001b[1;33m\u001b[0m\u001b[0m\n\u001b[0;32m   1710\u001b[0m         \u001b[0mpassed_names\u001b[0m \u001b[1;33m=\u001b[0m \u001b[0mself\u001b[0m\u001b[1;33m.\u001b[0m\u001b[0mnames\u001b[0m \u001b[1;32mis\u001b[0m \u001b[1;32mNone\u001b[0m\u001b[1;33m\u001b[0m\u001b[1;33m\u001b[0m\u001b[0m\n",
      "\u001b[1;32mpandas\\_libs\\parsers.pyx\u001b[0m in \u001b[0;36mpandas._libs.parsers.TextReader.__cinit__\u001b[1;34m()\u001b[0m\n",
      "\u001b[1;32mpandas\\_libs\\parsers.pyx\u001b[0m in \u001b[0;36mpandas._libs.parsers.TextReader._setup_parser_source\u001b[1;34m()\u001b[0m\n",
      "\u001b[1;31mFileNotFoundError\u001b[0m: File b'experiments_stats/wtf.csv' does not exist"
     ]
    }
   ],
   "source": [
    "df = pd.read_csv(\"experiments_stats/wtf.csv\")"
   ]
  },
  {
   "cell_type": "code",
   "execution_count": 28,
   "metadata": {},
   "outputs": [
    {
     "data": {
      "text/plain": [
       "experiment_id\n",
       "0     20\n",
       "1    100\n",
       "dtype: int64"
      ]
     },
     "execution_count": 28,
     "metadata": {},
     "output_type": "execute_result"
    }
   ],
   "source": [
    "experiment_stats = pd.read_csv(\"experiments_stats/wip_cifar_resnet_sgd.csv\")\n",
    "experiment_stats.groupby(\"experiment_id\").size()"
   ]
  },
  {
   "cell_type": "code",
   "execution_count": 29,
   "metadata": {},
   "outputs": [],
   "source": [
    "stats = get_latest_experiment_df()"
   ]
  },
  {
   "cell_type": "code",
   "execution_count": 30,
   "metadata": {},
   "outputs": [
    {
     "data": {
      "text/html": [
       "<div>\n",
       "<style scoped>\n",
       "    .dataframe tbody tr th:only-of-type {\n",
       "        vertical-align: middle;\n",
       "    }\n",
       "\n",
       "    .dataframe tbody tr th {\n",
       "        vertical-align: top;\n",
       "    }\n",
       "\n",
       "    .dataframe thead th {\n",
       "        text-align: right;\n",
       "    }\n",
       "</style>\n",
       "<table border=\"1\" class=\"dataframe\">\n",
       "  <thead>\n",
       "    <tr style=\"text-align: right;\">\n",
       "      <th></th>\n",
       "      <th>experiment_id</th>\n",
       "      <th>experiment_title</th>\n",
       "      <th>epoch</th>\n",
       "      <th>epoch_amount</th>\n",
       "      <th>train_avg_loss</th>\n",
       "      <th>train_acc</th>\n",
       "      <th>test_avg_loss</th>\n",
       "      <th>test_acc</th>\n",
       "      <th>timestamp</th>\n",
       "    </tr>\n",
       "  </thead>\n",
       "  <tbody>\n",
       "    <tr>\n",
       "      <th>20</th>\n",
       "      <td>1</td>\n",
       "      <td>wip_cifar_resnet_sgd</td>\n",
       "      <td>1</td>\n",
       "      <td>100</td>\n",
       "      <td>1.884244</td>\n",
       "      <td>0.30508</td>\n",
       "      <td>1.972473</td>\n",
       "      <td>0.2866</td>\n",
       "      <td>2019-12-02 11:38:50.241278</td>\n",
       "    </tr>\n",
       "    <tr>\n",
       "      <th>21</th>\n",
       "      <td>1</td>\n",
       "      <td>wip_cifar_resnet_sgd</td>\n",
       "      <td>2</td>\n",
       "      <td>100</td>\n",
       "      <td>1.526712</td>\n",
       "      <td>0.43148</td>\n",
       "      <td>1.675569</td>\n",
       "      <td>0.3964</td>\n",
       "      <td>2019-12-02 11:39:05.842885</td>\n",
       "    </tr>\n",
       "    <tr>\n",
       "      <th>22</th>\n",
       "      <td>1</td>\n",
       "      <td>wip_cifar_resnet_sgd</td>\n",
       "      <td>3</td>\n",
       "      <td>100</td>\n",
       "      <td>1.364896</td>\n",
       "      <td>0.49478</td>\n",
       "      <td>1.547761</td>\n",
       "      <td>0.4519</td>\n",
       "      <td>2019-12-02 11:39:21.775598</td>\n",
       "    </tr>\n",
       "    <tr>\n",
       "      <th>23</th>\n",
       "      <td>1</td>\n",
       "      <td>wip_cifar_resnet_sgd</td>\n",
       "      <td>4</td>\n",
       "      <td>100</td>\n",
       "      <td>1.250310</td>\n",
       "      <td>0.54150</td>\n",
       "      <td>1.386207</td>\n",
       "      <td>0.4950</td>\n",
       "      <td>2019-12-02 11:39:37.548938</td>\n",
       "    </tr>\n",
       "    <tr>\n",
       "      <th>24</th>\n",
       "      <td>1</td>\n",
       "      <td>wip_cifar_resnet_sgd</td>\n",
       "      <td>5</td>\n",
       "      <td>100</td>\n",
       "      <td>1.154842</td>\n",
       "      <td>0.57740</td>\n",
       "      <td>1.357244</td>\n",
       "      <td>0.5211</td>\n",
       "      <td>2019-12-02 11:39:53.416680</td>\n",
       "    </tr>\n",
       "  </tbody>\n",
       "</table>\n",
       "</div>"
      ],
      "text/plain": [
       "    experiment_id      experiment_title  epoch  epoch_amount  train_avg_loss  \\\n",
       "20              1  wip_cifar_resnet_sgd      1           100        1.884244   \n",
       "21              1  wip_cifar_resnet_sgd      2           100        1.526712   \n",
       "22              1  wip_cifar_resnet_sgd      3           100        1.364896   \n",
       "23              1  wip_cifar_resnet_sgd      4           100        1.250310   \n",
       "24              1  wip_cifar_resnet_sgd      5           100        1.154842   \n",
       "\n",
       "    train_acc  test_avg_loss  test_acc                   timestamp  \n",
       "20    0.30508       1.972473    0.2866  2019-12-02 11:38:50.241278  \n",
       "21    0.43148       1.675569    0.3964  2019-12-02 11:39:05.842885  \n",
       "22    0.49478       1.547761    0.4519  2019-12-02 11:39:21.775598  \n",
       "23    0.54150       1.386207    0.4950  2019-12-02 11:39:37.548938  \n",
       "24    0.57740       1.357244    0.5211  2019-12-02 11:39:53.416680  "
      ]
     },
     "execution_count": 30,
     "metadata": {},
     "output_type": "execute_result"
    }
   ],
   "source": [
    "stats.head()"
   ]
  },
  {
   "cell_type": "code",
   "execution_count": 31,
   "metadata": {},
   "outputs": [
    {
     "data": {
      "text/plain": [
       "<matplotlib.axes._subplots.AxesSubplot at 0x1b54de6e358>"
      ]
     },
     "execution_count": 31,
     "metadata": {},
     "output_type": "execute_result"
    },
    {
     "data": {
      "image/png": "[encoded data removed]",
      "text/plain": [
       "<Figure size 432x288 with 1 Axes>"
      ]
     },
     "metadata": {
      "needs_background": "light"
     },
     "output_type": "display_data"
    }
   ],
   "source": [
    "stats.plot(x=\"epoch\", y=[\"train_avg_loss\", \"test_avg_loss\"])"
   ]
  },
  {
   "cell_type": "code",
   "execution_count": 32,
   "metadata": {},
   "outputs": [
    {
     "data": {
      "text/plain": [
       "<matplotlib.axes._subplots.AxesSubplot at 0x1b548fdccf8>"
      ]
     },
     "execution_count": 32,
     "metadata": {},
     "output_type": "execute_result"
    },
    {
     "data": {
      "image/png": "[encoded data removed]",
      "text/plain": [
       "<Figure size 432x288 with 1 Axes>"
      ]
     },
     "metadata": {
      "needs_background": "light"
     },
     "output_type": "display_data"
    }
   ],
   "source": [
    "stats.plot(x=\"epoch\", y=[\"train_acc\", \"test_acc\"])"
   ]
  },
  {
   "cell_type": "code",
   "execution_count": null,
   "metadata": {},
   "outputs": [],
   "source": []
  }
 ],
 "metadata": {
  "kernelspec": {
   "display_name": "Python 3",
   "language": "python",
   "name": "python3"
  },
  "language_info": {
   "codemirror_mode": {
    "name": "ipython",
    "version": 3
   },
   "file_extension": ".py",
   "mimetype": "text/x-python",
   "name": "python",
   "nbconvert_exporter": "python",
   "pygments_lexer": "ipython3",
   "version": "3.7.3"
  }
 },
 "nbformat": 4,
 "nbformat_minor": 2
}
