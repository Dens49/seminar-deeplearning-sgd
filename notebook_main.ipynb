{
 "cells": [
  {
   "cell_type": "markdown",
   "metadata": {},
   "source": [
    "# Seminar Deep Learning - Stochastic Gradient Descent\n",
    "\n",
    "*Hochschule Offenburg*\n",
    "\n",
    "*Dennis Bystrow, INFM-3*"
   ]
  },
  {
   "cell_type": "markdown",
   "metadata": {},
   "source": [
    "## Overview\n",
    "\n",
    "1. Introduction to SGD\n",
    "- Overview and implementations of a few SGD optimizations\n",
    "  1. Basic PyTorch implementation\n",
    "    1. The CIFAR10 Dataset\n",
    "  - SGD\n",
    "    1. Mini-Batch\n",
    "    - SGD with Momentum\n",
    "    - SGD with learning rate schedule\n",
    "  - AdaGrad\n",
    "  - RMSProp\n",
    "- Results\n",
    "  - SGD\n",
    "    1. Mini-Batch\n",
    "    - SGD with Momentum\n",
    "    - SGD with learning rate schedule\n",
    "  - AdaGrad\n",
    "  - RMSProp\n",
    "- Sources\n"
   ]
  },
  {
   "cell_type": "markdown",
   "metadata": {},
   "source": [
    "## 1. Introduction to SGD"
   ]
  },
  {
   "cell_type": "markdown",
   "metadata": {},
   "source": [
    "## 2. Overview and implementations of a few SGD optimizations"
   ]
  },
  {
   "cell_type": "markdown",
   "metadata": {},
   "source": [
    "### Basic PyTorch implementation"
   ]
  },
  {
   "cell_type": "markdown",
   "metadata": {},
   "source": [
    "#### The CIFAR10 dataset\n",
    "\n",
    "The dataset CIFAR10 https://www.cs.toronto.edu/~kriz/cifar.html will be used\n",
    "\n",
    "The CIFAR10 dataset is included in the torchvision library. It will can therefore be easily loaded and accessed via code only: https://pytorch.org/tutorials/beginner/blitz/cifar10_tutorial.html#loading-and-normalizing-cifar10\n",
    "\n",
    "An existing, untrained resnet20 implementation from https://github.com/cc-hpc-itwm/GradVis/blob/master/Examples/resnet20_example.py will be used"
   ]
  },
  {
   "cell_type": "code",
   "execution_count": 19,
   "metadata": {},
   "outputs": [],
   "source": [
    "%load_ext autoreload\n",
    "%autoreload 2"
   ]
  },
  {
   "cell_type": "code",
   "execution_count": 22,
   "metadata": {},
   "outputs": [],
   "source": [
    "import pandas as pd\n",
    "\n",
    "from main import main\n",
    "from create_visualizations import create_plots_from_checkpoints, TrainVisCIFAR10\n",
    "from gradvis import resnets"
   ]
  },
  {
   "cell_type": "markdown",
   "metadata": {},
   "source": [
    "Run learning"
   ]
  },
  {
   "cell_type": "code",
   "execution_count": 2,
   "metadata": {},
   "outputs": [
    {
     "name": "stdout",
     "output_type": "stream",
     "text": [
      "running on device: cuda\n",
      "Files already downloaded and verified\n",
      "Files already downloaded and verified\n",
      "directory ./checkpoints\\wip_cifar_resnet_sgd was created\n",
      "Epoch: [1/20]\n"
     ]
    },
    {
     "name": "stderr",
     "output_type": "stream",
     "text": [
      "  : 100%|██████████| 196/196 [00:17<00:00, 11.17it/s]\n"
     ]
    },
    {
     "name": "stdout",
     "output_type": "stream",
     "text": [
      "  Train Avg Loss: 1.8293 Acc: 0.3076\n",
      "  testing...\n",
      "  Test Avg Loss: 1.7680 Acc: 0.3449\n",
      "Epoch: [2/20]\n"
     ]
    },
    {
     "name": "stderr",
     "output_type": "stream",
     "text": [
      "  : 100%|██████████| 196/196 [00:13<00:00, 15.12it/s]\n"
     ]
    },
    {
     "name": "stdout",
     "output_type": "stream",
     "text": [
      "  Train Avg Loss: 1.5154 Acc: 0.4281\n",
      "  testing...\n",
      "  Test Avg Loss: 1.6889 Acc: 0.3957\n",
      "Epoch: [3/20]\n"
     ]
    },
    {
     "name": "stderr",
     "output_type": "stream",
     "text": [
      "  : 100%|██████████| 196/196 [00:13<00:00, 15.16it/s]\n"
     ]
    },
    {
     "name": "stdout",
     "output_type": "stream",
     "text": [
      "  Train Avg Loss: 1.3446 Acc: 0.5032\n",
      "  testing...\n",
      "  Test Avg Loss: 1.4196 Acc: 0.4819\n",
      "Epoch: [4/20]\n"
     ]
    },
    {
     "name": "stderr",
     "output_type": "stream",
     "text": [
      "  : 100%|██████████| 196/196 [00:13<00:00, 14.95it/s]\n"
     ]
    },
    {
     "name": "stdout",
     "output_type": "stream",
     "text": [
      "  Train Avg Loss: 1.2264 Acc: 0.5491\n",
      "  testing...\n",
      "  Test Avg Loss: 1.3024 Acc: 0.5299\n",
      "Epoch: [5/20]\n"
     ]
    },
    {
     "name": "stderr",
     "output_type": "stream",
     "text": [
      "  : 100%|██████████| 196/196 [00:13<00:00, 14.96it/s]\n"
     ]
    },
    {
     "name": "stdout",
     "output_type": "stream",
     "text": [
      "  Train Avg Loss: 1.1329 Acc: 0.5860\n",
      "  testing...\n",
      "  Test Avg Loss: 1.1937 Acc: 0.5657\n",
      "Epoch: [6/20]\n"
     ]
    },
    {
     "name": "stderr",
     "output_type": "stream",
     "text": [
      "  : 100%|██████████| 196/196 [00:13<00:00, 15.07it/s]\n"
     ]
    },
    {
     "name": "stdout",
     "output_type": "stream",
     "text": [
      "  Train Avg Loss: 1.0553 Acc: 0.6164\n",
      "  testing...\n",
      "  Test Avg Loss: 1.3713 Acc: 0.5219\n",
      "Epoch: [7/20]\n"
     ]
    },
    {
     "name": "stderr",
     "output_type": "stream",
     "text": [
      "  : 100%|██████████| 196/196 [00:13<00:00, 15.13it/s]\n"
     ]
    },
    {
     "name": "stdout",
     "output_type": "stream",
     "text": [
      "  Train Avg Loss: 0.9898 Acc: 0.6398\n",
      "  testing...\n",
      "  Test Avg Loss: 1.0365 Acc: 0.6301\n",
      "Epoch: [8/20]\n"
     ]
    },
    {
     "name": "stderr",
     "output_type": "stream",
     "text": [
      "  : 100%|██████████| 196/196 [00:13<00:00, 15.11it/s]\n"
     ]
    },
    {
     "name": "stdout",
     "output_type": "stream",
     "text": [
      "  Train Avg Loss: 0.9324 Acc: 0.6630\n",
      "  testing...\n",
      "  Test Avg Loss: 1.8831 Acc: 0.4397\n",
      "Epoch: [9/20]\n"
     ]
    },
    {
     "name": "stderr",
     "output_type": "stream",
     "text": [
      "  : 100%|██████████| 196/196 [00:13<00:00, 15.09it/s]\n"
     ]
    },
    {
     "name": "stdout",
     "output_type": "stream",
     "text": [
      "  Train Avg Loss: 0.8779 Acc: 0.6847\n",
      "  testing...\n",
      "  Test Avg Loss: 1.1731 Acc: 0.5941\n",
      "Epoch: [10/20]\n"
     ]
    },
    {
     "name": "stderr",
     "output_type": "stream",
     "text": [
      "  : 100%|██████████| 196/196 [00:13<00:00, 15.07it/s]\n"
     ]
    },
    {
     "name": "stdout",
     "output_type": "stream",
     "text": [
      "  Train Avg Loss: 0.8366 Acc: 0.6991\n",
      "  testing...\n",
      "  Test Avg Loss: 1.3420 Acc: 0.5602\n",
      "Epoch: [11/20]\n"
     ]
    },
    {
     "name": "stderr",
     "output_type": "stream",
     "text": [
      "  : 100%|██████████| 196/196 [00:13<00:00, 15.11it/s]\n"
     ]
    },
    {
     "name": "stdout",
     "output_type": "stream",
     "text": [
      "  Train Avg Loss: 0.7975 Acc: 0.7140\n",
      "  testing...\n",
      "  Test Avg Loss: 1.0503 Acc: 0.6330\n",
      "Epoch: [12/20]\n"
     ]
    },
    {
     "name": "stderr",
     "output_type": "stream",
     "text": [
      "  : 100%|██████████| 196/196 [00:13<00:00, 15.10it/s]\n"
     ]
    },
    {
     "name": "stdout",
     "output_type": "stream",
     "text": [
      "  Train Avg Loss: 0.7561 Acc: 0.7287\n",
      "  testing...\n",
      "  Test Avg Loss: 1.4712 Acc: 0.5538\n",
      "Epoch: [13/20]\n"
     ]
    },
    {
     "name": "stderr",
     "output_type": "stream",
     "text": [
      "  : 100%|██████████| 196/196 [00:13<00:00, 15.01it/s]\n"
     ]
    },
    {
     "name": "stdout",
     "output_type": "stream",
     "text": [
      "  Train Avg Loss: 0.7200 Acc: 0.7426\n",
      "  testing...\n",
      "  Test Avg Loss: 1.1825 Acc: 0.6094\n",
      "Epoch: [14/20]\n"
     ]
    },
    {
     "name": "stderr",
     "output_type": "stream",
     "text": [
      "  : 100%|██████████| 196/196 [00:13<00:00, 14.99it/s]\n"
     ]
    },
    {
     "name": "stdout",
     "output_type": "stream",
     "text": [
      "  Train Avg Loss: 0.6860 Acc: 0.7568\n",
      "  testing...\n",
      "  Test Avg Loss: 1.4862 Acc: 0.5617\n",
      "Epoch: [15/20]\n"
     ]
    },
    {
     "name": "stderr",
     "output_type": "stream",
     "text": [
      "  : 100%|██████████| 196/196 [00:13<00:00, 14.96it/s]\n"
     ]
    },
    {
     "name": "stdout",
     "output_type": "stream",
     "text": [
      "  Train Avg Loss: 0.6492 Acc: 0.7703\n",
      "  testing...\n",
      "  Test Avg Loss: 1.7807 Acc: 0.5131\n",
      "Epoch: [16/20]\n"
     ]
    },
    {
     "name": "stderr",
     "output_type": "stream",
     "text": [
      "  : 100%|██████████| 196/196 [00:13<00:00, 15.22it/s]\n"
     ]
    },
    {
     "name": "stdout",
     "output_type": "stream",
     "text": [
      "  Train Avg Loss: 0.6161 Acc: 0.7816\n",
      "  testing...\n",
      "  Test Avg Loss: 1.8965 Acc: 0.4764\n",
      "Epoch: [17/20]\n"
     ]
    },
    {
     "name": "stderr",
     "output_type": "stream",
     "text": [
      "  : 100%|██████████| 196/196 [00:13<00:00, 14.88it/s]\n"
     ]
    },
    {
     "name": "stdout",
     "output_type": "stream",
     "text": [
      "  Train Avg Loss: 0.5803 Acc: 0.7946\n",
      "  testing...\n",
      "  Test Avg Loss: 1.2119 Acc: 0.6265\n",
      "Epoch: [18/20]\n"
     ]
    },
    {
     "name": "stderr",
     "output_type": "stream",
     "text": [
      "  : 100%|██████████| 196/196 [00:13<00:00, 15.10it/s]\n"
     ]
    },
    {
     "name": "stdout",
     "output_type": "stream",
     "text": [
      "  Train Avg Loss: 0.5506 Acc: 0.8050\n",
      "  testing...\n",
      "  Test Avg Loss: 1.4147 Acc: 0.5994\n",
      "Epoch: [19/20]\n"
     ]
    },
    {
     "name": "stderr",
     "output_type": "stream",
     "text": [
      "  : 100%|██████████| 196/196 [00:13<00:00, 14.89it/s]\n"
     ]
    },
    {
     "name": "stdout",
     "output_type": "stream",
     "text": [
      "  Train Avg Loss: 0.5167 Acc: 0.8186\n",
      "  testing...\n",
      "  Test Avg Loss: 1.6466 Acc: 0.5324\n",
      "Epoch: [20/20]\n"
     ]
    },
    {
     "name": "stderr",
     "output_type": "stream",
     "text": [
      "  : 100%|██████████| 196/196 [00:13<00:00, 14.93it/s]\n"
     ]
    },
    {
     "name": "stdout",
     "output_type": "stream",
     "text": [
      "  Train Avg Loss: 0.4889 Acc: 0.8284\n",
      "  testing...\n",
      "  Test Avg Loss: 1.4284 Acc: 0.6103\n",
      "Training took 320.97 seconds\n"
     ]
    }
   ],
   "source": [
    "main()"
   ]
  },
  {
   "cell_type": "markdown",
   "metadata": {},
   "source": [
    "Create visualizations from checkpoints"
   ]
  },
  {
   "cell_type": "code",
   "execution_count": 21,
   "metadata": {},
   "outputs": [
    {
     "name": "stdout",
     "output_type": "stream",
     "text": [
      "Files already downloaded and verified\n",
      "directory ./visualizations/wip_cifar_resnet_sgd was created\n",
      "Calculating PCA directions...\n",
      "Principal [0.69083024 0.24714668]\n",
      "Normalizing...\n",
      "Calculating coefficients...\n",
      "Calculating Z-values of paths...\n"
     ]
    },
    {
     "name": "stderr",
     "output_type": "stream",
     "text": [
      "100%|██████████| 21/21 [00:25<00:00,  1.21s/it]\n"
     ]
    },
    {
     "name": "stdout",
     "output_type": "stream",
     "text": [
      "Calculating loss landscape...\n"
     ]
    },
    {
     "name": "stderr",
     "output_type": "stream",
     "text": [
      "100%|██████████| 21/21 [08:50<00:00, 25.10s/it]\n"
     ]
    },
    {
     "name": "stdout",
     "output_type": "stream",
     "text": [
      "Saving figure ./visualizations/wip_cifar_resnet_sgd\\wip_cifar_resnet_sgd_2D_plot_pca_20.svg\n",
      "Saving figure ./visualizations/wip_cifar_resnet_sgd\\wip_cifar_resnet_sgd_3D_plot_pca_20.svg\n"
     ]
    }
   ],
   "source": [
    "bare_model = resnets.resnet20_cifar()\n",
    "train_vis_function = TrainVisCIFAR10(\n",
    "    \"./cifar_data\").get_train_vis_function()\n",
    "create_plots_from_checkpoints(bare_model,\n",
    "                              train_vis_function,\n",
    "                              \"./checkpoints/wip_cifar_resnet_sgd\",\n",
    "                              \"wip_cifar_resnet_sgd\",\n",
    "                              \"./visualizations/wip_cifar_resnet_sgd\",\n",
    "                              \"wip_cifar_resnet_sgd\",\n",
    "                              amount=-1,\n",
    "                              loss_3D_degrees=120)"
   ]
  },
  {
   "cell_type": "markdown",
   "metadata": {},
   "source": [
    "Show resulting visualizations"
   ]
  },
  {
   "cell_type": "markdown",
   "metadata": {},
   "source": [
    "2D plot of loss surface and path for this experiment\n",
    "\n",
    "TODO: Does this look weird, because I messed around too much with gradvis or because the resulting path is actually weird?\n",
    "\n",
    "![This should be an image](visualizations/wip_cifar_resnet_sgd/wip_cifar_resnet_sgd_2D_plot_pca_20.svg \"2D Plot of loss surface and path for this experiment\")\n",
    "\n",
    "3D plot of loss surface and path for this experiment\n",
    "\n",
    "![This should be an image](visualizations/wip_cifar_resnet_sgd/wip_cifar_resnet_sgd_3D_plot_pca_20.svg \"3D Plot of loss surface and path for this experiment\")"
   ]
  },
  {
   "cell_type": "markdown",
   "metadata": {},
   "source": [
    "Create diagram from loss and accuracy"
   ]
  },
  {
   "cell_type": "code",
   "execution_count": 32,
   "metadata": {},
   "outputs": [
    {
     "data": {
      "text/html": [
       "<div>\n",
       "<style scoped>\n",
       "    .dataframe tbody tr th:only-of-type {\n",
       "        vertical-align: middle;\n",
       "    }\n",
       "\n",
       "    .dataframe tbody tr th {\n",
       "        vertical-align: top;\n",
       "    }\n",
       "\n",
       "    .dataframe thead th {\n",
       "        text-align: right;\n",
       "    }\n",
       "</style>\n",
       "<table border=\"1\" class=\"dataframe\">\n",
       "  <thead>\n",
       "    <tr style=\"text-align: right;\">\n",
       "      <th></th>\n",
       "      <th>experiment_title</th>\n",
       "      <th>epoch</th>\n",
       "      <th>epoch_amount</th>\n",
       "      <th>train_avg_loss</th>\n",
       "      <th>train_acc</th>\n",
       "      <th>test_avg_loss</th>\n",
       "      <th>test_acc</th>\n",
       "      <th>timestamp</th>\n",
       "    </tr>\n",
       "  </thead>\n",
       "  <tbody>\n",
       "    <tr>\n",
       "      <th>0</th>\n",
       "      <td>wip_cifar_resnet_sgd</td>\n",
       "      <td>1</td>\n",
       "      <td>20</td>\n",
       "      <td>1.829314</td>\n",
       "      <td>0.30760</td>\n",
       "      <td>1.767976</td>\n",
       "      <td>0.3449</td>\n",
       "      <td>2019-11-27 17:26:51.678000</td>\n",
       "    </tr>\n",
       "    <tr>\n",
       "      <th>1</th>\n",
       "      <td>wip_cifar_resnet_sgd</td>\n",
       "      <td>2</td>\n",
       "      <td>20</td>\n",
       "      <td>1.515386</td>\n",
       "      <td>0.42814</td>\n",
       "      <td>1.688947</td>\n",
       "      <td>0.3957</td>\n",
       "      <td>2019-11-27 17:27:07.592042</td>\n",
       "    </tr>\n",
       "  </tbody>\n",
       "</table>\n",
       "</div>"
      ],
      "text/plain": [
       "       experiment_title  epoch  epoch_amount  train_avg_loss  train_acc  \\\n",
       "0  wip_cifar_resnet_sgd      1            20        1.829314    0.30760   \n",
       "1  wip_cifar_resnet_sgd      2            20        1.515386    0.42814   \n",
       "\n",
       "   test_avg_loss  test_acc                   timestamp  \n",
       "0       1.767976    0.3449  2019-11-27 17:26:51.678000  \n",
       "1       1.688947    0.3957  2019-11-27 17:27:07.592042  "
      ]
     },
     "execution_count": 32,
     "metadata": {},
     "output_type": "execute_result"
    }
   ],
   "source": [
    "experiment_stats = pd.read_csv(\"experiments_stats/wip_cifar_resnet_sgd.csv\")\n",
    "experiment_stats.head(2)"
   ]
  },
  {
   "cell_type": "code",
   "execution_count": 30,
   "metadata": {},
   "outputs": [
    {
     "data": {
      "text/plain": [
       "<matplotlib.axes._subplots.AxesSubplot at 0x24803749c18>"
      ]
     },
     "execution_count": 30,
     "metadata": {},
     "output_type": "execute_result"
    },
    {
     "data": {
      "image/png": "[encoded data removed]",
      "text/plain": [
       "<Figure size 432x288 with 1 Axes>"
      ]
     },
     "metadata": {
      "needs_background": "light"
     },
     "output_type": "display_data"
    }
   ],
   "source": [
    "experiment_stats.plot(x=\"epoch\", y=[\"train_avg_loss\", \"test_avg_loss\"])"
   ]
  },
  {
   "cell_type": "code",
   "execution_count": 31,
   "metadata": {},
   "outputs": [
    {
     "data": {
      "text/plain": [
       "<matplotlib.axes._subplots.AxesSubplot at 0x24807b97b38>"
      ]
     },
     "execution_count": 31,
     "metadata": {},
     "output_type": "execute_result"
    },
    {
     "data": {
      "image/png": "[encoded data removed]",
      "text/plain": [
       "<Figure size 432x288 with 1 Axes>"
      ]
     },
     "metadata": {
      "needs_background": "light"
     },
     "output_type": "display_data"
    }
   ],
   "source": [
    "experiment_stats.plot(x=\"epoch\", y=[\"train_acc\", \"test_acc\"])"
   ]
  }
 ],
 "metadata": {
  "kernelspec": {
   "display_name": "Python 3",
   "language": "python",
   "name": "python3"
  },
  "language_info": {
   "codemirror_mode": {
    "name": "ipython",
    "version": 3
   },
   "file_extension": ".py",
   "mimetype": "text/x-python",
   "name": "python",
   "nbconvert_exporter": "python",
   "pygments_lexer": "ipython3",
   "version": "3.7.3"
  }
 },
 "nbformat": 4,
 "nbformat_minor": 2
}
