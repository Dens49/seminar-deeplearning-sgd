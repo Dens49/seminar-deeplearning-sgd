{
 "cells": [
  {
   "cell_type": "code",
   "execution_count": null,
   "metadata": {
    "colab": {},
    "colab_type": "code",
    "id": "pjjbdbkUutao"
   },
   "outputs": [],
   "source": [
    "%load_ext autoreload\n",
    "%autoreload 2\n",
    "%matplotlib inline"
   ]
  },
  {
   "cell_type": "code",
   "execution_count": null,
   "metadata": {
    "colab": {},
    "colab_type": "code",
    "id": "NFXJLRfJutas"
   },
   "outputs": [],
   "source": [
    "try:\n",
    "  import google.colab\n",
    "  IN_COLAB = True\n",
    "except:\n",
    "  IN_COLAB = False"
   ]
  },
  {
   "cell_type": "code",
   "execution_count": null,
   "metadata": {
    "colab": {
     "base_uri": "https://localhost:8080/",
     "height": 156
    },
    "colab_type": "code",
    "executionInfo": {
     "elapsed": 21038,
     "status": "ok",
     "timestamp": 1578144548758,
     "user": {
      "displayName": "Burnin Ace",
      "photoUrl": "https://lh3.googleusercontent.com/a-/AAuE7mA8fj6H1-91RSJDpnR_RcKJY4qeRwPu0YujF20P9A=s64",
      "userId": "01207484451085938729"
     },
     "user_tz": -60
    },
    "id": "_Ti_5nJjutau",
    "outputId": "79317fec-9c2a-42db-9b9e-c5414d6b4cdf"
   },
   "outputs": [],
   "source": [
    "import os\n",
    "if IN_COLAB:\n",
    "    print(\"running in google colab\")\n",
    "    from google.colab import drive\n",
    "    drive.mount(\"/content/drive\")\n",
    "    os.chdir(\"/content/drive/My Drive/seminar_dl_workspace\")\n",
    "    print(\"switched workspace:\", os.getcwd())"
   ]
  },
  {
   "cell_type": "code",
   "execution_count": null,
   "metadata": {
    "colab": {},
    "colab_type": "code",
    "id": "vkqHHWSXutav"
   },
   "outputs": [],
   "source": [
    "from IPython.display import SVG, display\n",
    "def show_svg(filename):\n",
    "    display(SVG(filename=filename))"
   ]
  },
  {
   "cell_type": "markdown",
   "metadata": {
    "colab_type": "text",
    "id": "YK1NRbtZutax"
   },
   "source": [
    "boilerplate done..."
   ]
  },
  {
   "cell_type": "markdown",
   "metadata": {
    "colab_type": "text",
    "id": "66sNRRscutax"
   },
   "source": [
    "define experiments"
   ]
  },
  {
   "cell_type": "code",
   "execution_count": null,
   "metadata": {
    "colab": {},
    "colab_type": "code",
    "id": "niuObVzTutay"
   },
   "outputs": [],
   "source": [
    "from experiment import Experiment\n",
    "from experiment_runner import run_experiment\n",
    "\n",
    "# momentum with different gammas (--> called momentums here), batch sizes and learning rates\n",
    "# split up as necessary\n",
    "experiments = []\n",
    "# batch_sizes = [16, 128, 256]\n",
    "# learning_rates = [0.01, 0.04, 0.45]\n",
    "# momentums = [0.875, 0.9, 0.925]\n",
    "batch_sizes = [16]\n",
    "learning_rates = [0.01, 0.35]\n",
    "momentums = [0.7, 0.725, 0.75, 0.775, 0.8, 0.825, 0.85, 0.875, 0.9, 0.905, 0.91, 0.915, 0.92, 0.925, 0.95, 0.975, 1.0]\n",
    "epochs = 20\n",
    "for jdx, momentum in enumerate(momentums):\n",
    "    for idx, batch_size in enumerate(batch_sizes):\n",
    "        for kdx, lr in enumerate(learning_rates):\n",
    "            e = Experiment(name=f\"SGD_with_momentum_{momentum}_{batch_size}_{lr}\",\n",
    "                        optimizer_name=\"SGD_WITH_MOMENTUM\",\n",
    "                        params=dict(epochs=epochs, lr=lr, batch_size=batch_size, momentum=momentum))\n",
    "            experiments.append(e)"
   ]
  },
  {
   "cell_type": "markdown",
   "metadata": {
    "colab_type": "text",
    "id": "IMi1enRRuta0"
   },
   "source": [
    "run experiments"
   ]
  },
  {
   "cell_type": "code",
   "execution_count": null,
   "metadata": {
    "colab": {
     "base_uri": "https://localhost:8080/",
     "height": 102
    },
    "colab_type": "code",
    "executionInfo": {
     "elapsed": 11481231,
     "status": "ok",
     "timestamp": 1577820404847,
     "user": {
      "displayName": "Dennis Bystrow",
      "photoUrl": "",
      "userId": "10150370432572273237"
     },
     "user_tz": -60
    },
    "id": "IaJANIUmuta1",
    "outputId": "060d47d4-0335-4616-d2e6-4095a4eb25e1"
   },
   "outputs": [],
   "source": [
    "for e in experiments:\n",
    "    print(f\"Running experiment: {e.name} with {e.optimizer_name}{(' ' + e.lr_scheduler_name) if e.has_lr_scheduler() else ''} {e.params}\")\n",
    "    run_experiment(e)"
   ]
  }
 ],
 "metadata": {
  "accelerator": "GPU",
  "colab": {
   "collapsed_sections": [],
   "name": "notebook_experiments_momentum_runner.ipynb",
   "provenance": []
  },
  "kernelspec": {
   "display_name": "Python 3",
   "language": "python",
   "name": "python3"
  },
  "language_info": {
   "codemirror_mode": {
    "name": "ipython",
    "version": 3
   },
   "file_extension": ".py",
   "mimetype": "text/x-python",
   "name": "python",
   "nbconvert_exporter": "python",
   "pygments_lexer": "ipython3",
   "version": "3.7.3"
  }
 },
 "nbformat": 4,
 "nbformat_minor": 2
}
